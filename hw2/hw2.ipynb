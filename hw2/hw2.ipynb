{
 "cells": [
  {
   "cell_type": "markdown",
   "id": "7d7d5229",
   "metadata": {},
   "source": [
    "# Geometrical Methods in Machine Learning\n",
    "\n",
    "## Homework 2"
   ]
  },
  {
   "cell_type": "markdown",
   "id": "f03143c2",
   "metadata": {},
   "source": [
    "### Manifold learning\n",
    "\n",
    "Obtain `Extended Yale B` face dataset ([download](https://github.com/oleg-kachan/GMML2023/blob/main/hw2/data/CroppedYale.zip)) which is comprised of $100 \\times 100$ pixels images of $38$ persons times $64$ illumination conditions. Resize images to $32 \\times 32$ pixels. You can do it using `Pillow` ([link](https://pillow.readthedocs.io/), tested) or any other image processing library of your choice.\n",
    "\n",
    "1. Using 3 methods of your choice from [scikit-dimension](https://scikit-dimension.readthedocs.io), estimate the intrinsic dimensionality of this data and perform dimensionality reduction to the intrinsic dimension $\\hat{d}$ and dimensions $2$ or $3$ for visualization purposes using manifold learning methods of your choice. Compare the performance of different methods, comment on their ideas.\n",
    "\n",
    "2. Compute NPR (neigborhood preservation ratio, see [seminar 4](https://github.com/oleg-kachan/GMML2022/blob/main/seminar4/seminar4_solution.ipynb)) of algorithms you have used for 2 different values of $d = \\{2$ or $3, \\hat{d} \\}$ and fixed number of nearest neighbors $k$. \n",
    "\n",
    "3. Explore the embedding space of dimension $2$ or $3$ for clusters and meaningful interpretations, comment the possible meaning of the new coordinates.\n",
    "\n",
    "4. Compute and plot persistence diagrams for dimensions $0$ and $1$, conclude whether the dataset have untrivial topology such a several clusters and/or presence of cycles in dimension $1$. If applicable, how can one explain a presence of cycles for the `Extended Yale B` face dataset?\n",
    "\n",
    "**Grading:** Each subtask is awarded with $1$ point."
   ]
  },
  {
   "cell_type": "code",
   "execution_count": null,
   "id": "240aa6ba",
   "metadata": {},
   "outputs": [],
   "source": [
    "# your code here"
   ]
  },
  {
   "cell_type": "markdown",
   "id": "23101d91",
   "metadata": {},
   "source": [
    "#### Grading:\n",
    "\n",
    "- 8/10 points are awarded for completing all the tasks and giving proper answers to questions.\n",
    "- 2/10 points are awarded for the quality of reporting, be sure to give explanations and comments to your solutions.\n",
    "- +1 extra point may be awarded for the extra work performed, be creative."
   ]
  }
 ],
 "metadata": {
  "kernelspec": {
   "display_name": "Python 3 (ipykernel)",
   "language": "python",
   "name": "python3"
  },
  "language_info": {
   "codemirror_mode": {
    "name": "ipython",
    "version": 3
   },
   "file_extension": ".py",
   "mimetype": "text/x-python",
   "name": "python",
   "nbconvert_exporter": "python",
   "pygments_lexer": "ipython3",
   "version": "3.9.13"
  }
 },
 "nbformat": 4,
 "nbformat_minor": 5
}
